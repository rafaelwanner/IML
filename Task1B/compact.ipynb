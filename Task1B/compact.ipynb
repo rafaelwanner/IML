{
 "cells": [
  {
   "cell_type": "code",
   "execution_count": 2,
   "metadata": {},
   "outputs": [],
   "source": [
    "from sklearn.linear_model import Ridge\n",
    "import pandas as pd\n",
    "import numpy as np\n",
    "from sklearn.model_selection import GridSearchCV"
   ]
  },
  {
   "cell_type": "code",
   "execution_count": 9,
   "metadata": {},
   "outputs": [],
   "source": [
    "TRAIN_PATH = \"train.csv\"\n",
    "\n",
    "data = pd.read_csv(TRAIN_PATH,  index_col=0 )\n",
    "\n",
    "X = np.array(data.drop('y', axis=1))\n",
    "y = np.array(data['y']"
   ]
  },
  {
   "cell_type": "code",
   "execution_count": 49,
   "metadata": {},
   "outputs": [],
   "source": [
    "f=np.zeros((X.shape[0],21), dtype = np.float64)\n",
    "f[:,0:5] = X\n",
    "np.square(X, out = f[:,5:10])\n",
    "np.exp(X, out = f[:,10:15])\n",
    "np.cos(X, out = f[:,15:20])\n",
    "f[:,20] = 1\n"
   ]
  },
  {
   "cell_type": "code",
   "execution_count": 42,
   "metadata": {
    "scrolled": false
   },
   "outputs": [
    {
     "data": {
      "text/plain": [
       "{'mean_fit_time': array([0.00591111, 0.00270096, 0.00244133, 0.00104618, 0.00119019]),\n",
       " 'std_fit_time': array([3.48523657e-04, 5.44681227e-04, 8.13102515e-04, 7.20608077e-05,\n",
       "        2.79963382e-05]),\n",
       " 'mean_score_time': array([0.00077494, 0.00077573, 0.00099134, 0.00058913, 0.00092999]),\n",
       " 'std_score_time': array([1.21706295e-04, 8.61603827e-05, 2.94578159e-04, 7.65230791e-05,\n",
       "        3.62251504e-04]),\n",
       " 'param_alpha': masked_array(data=[0.1, 1, 10, 100, 200],\n",
       "              mask=[False, False, False, False, False],\n",
       "        fill_value='?',\n",
       "             dtype=object),\n",
       " 'params': [{'alpha': 0.1},\n",
       "  {'alpha': 1},\n",
       "  {'alpha': 10},\n",
       "  {'alpha': 100},\n",
       "  {'alpha': 200}],\n",
       " 'split0_test_score': array([-1.95100784, -1.94217461, -1.93856821, -1.93876849, -1.94771937]),\n",
       " 'split1_test_score': array([-1.96374817, -1.94829981, -1.94191528, -1.94804994, -1.96106153]),\n",
       " 'split2_test_score': array([-1.98729151, -1.98508705, -1.98705498, -1.99727279, -2.0124448 ]),\n",
       " 'mean_test_score': array([-1.96734918, -1.95852049, -1.95584616, -1.96136374, -1.9737419 ]),\n",
       " 'std_test_score': array([0.01503001, 0.0189511 , 0.02211024, 0.0256727 , 0.02790387]),\n",
       " 'rank_test_score': array([4, 2, 1, 3, 5], dtype=int32)}"
      ]
     },
     "execution_count": 42,
     "metadata": {},
     "output_type": "execute_result"
    }
   ],
   "source": [
    "cv = GridSearchCV(Ridge(fit_intercept=False), {'alpha' : [0.1, 1, 10, 100, 200]}, scoring='neg_root_mean_squared_error', n_jobs=-1, cv=3, verbose=0)\n",
    "cv.fit(f, y)\n",
    "cv.cv_results_"
   ]
  },
  {
   "cell_type": "code",
   "execution_count": 50,
   "metadata": {},
   "outputs": [
    {
     "data": {
      "text/plain": [
       "array([ 0.40535789, -0.75092127, -1.031851  ,  0.24705356,  0.06703275,\n",
       "       -1.01606281,  0.64561445,  0.34225914, -0.26572232,  0.49361559,\n",
       "       -0.63107748, -0.90930552, -1.36911935, -0.41321281, -0.22170992,\n",
       "        0.01749253, -0.80932764, -0.65738182, -0.35972196, -0.72665148,\n",
       "       -0.48793267])"
      ]
     },
     "execution_count": 50,
     "metadata": {},
     "output_type": "execute_result"
    }
   ],
   "source": [
    "mod = Ridge(fit_intercept=False, alpha = 1)\n",
    "mod.fit(f, y)\n",
    "mod.coef_"
   ]
  },
  {
   "cell_type": "code",
   "execution_count": 51,
   "metadata": {},
   "outputs": [],
   "source": [
    "np.savetxt('p1.csv',mod.coef_, delimiter=',', comments='')"
   ]
  },
  {
   "cell_type": "code",
   "execution_count": null,
   "metadata": {},
   "outputs": [],
   "source": []
  }
 ],
 "metadata": {
  "kernelspec": {
   "display_name": "Python 3",
   "language": "python",
   "name": "python3"
  },
  "language_info": {
   "codemirror_mode": {
    "name": "ipython",
    "version": 3
   },
   "file_extension": ".py",
   "mimetype": "text/x-python",
   "name": "python",
   "nbconvert_exporter": "python",
   "pygments_lexer": "ipython3",
   "version": "3.8.5"
  }
 },
 "nbformat": 4,
 "nbformat_minor": 4
}
