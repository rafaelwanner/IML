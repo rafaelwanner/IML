{
 "cells": [
  {
   "cell_type": "code",
   "execution_count": 1,
   "id": "general-details",
   "metadata": {},
   "outputs": [],
   "source": [
    "from sklearn.neural_network import MLPClassifier\n",
    "import pandas as pd\n",
    "import numpy as np\n",
    "from sklearn.metrics import f1_score\n",
    "from sklearn.preprocessing import StandardScaler\n",
    "from sklearn.utils import shuffle\n",
    "import math"
   ]
  },
  {
   "cell_type": "code",
   "execution_count": 2,
   "id": "utility-milwaukee",
   "metadata": {},
   "outputs": [],
   "source": [
    "SEQ_LEN = 4\n",
    "AMMINO_LEN = 21"
   ]
  },
  {
   "cell_type": "code",
   "execution_count": 3,
   "id": "valued-trash",
   "metadata": {},
   "outputs": [],
   "source": [
    "training_data = pd.read_csv(\"task3_ks39mcp5/train.csv\")\n",
    "test_data = pd.read_csv(\"task3_ks39mcp5/test.csv\")"
   ]
  },
  {
   "cell_type": "code",
   "execution_count": 4,
   "id": "divine-messaging",
   "metadata": {},
   "outputs": [],
   "source": [
    "def sequence(seq):\n",
    "    vector = [ord(letter) for letter in seq]\n",
    "    return vector"
   ]
  },
  {
   "cell_type": "code",
   "execution_count": 5,
   "id": "retired-infrastructure",
   "metadata": {},
   "outputs": [],
   "source": [
    "def bitmask(seq, alphabet=None):\n",
    "    if alphabet==None:\n",
    "        alphabet = ['R', 'H', 'K', 'D', 'E', 'S', 'T', 'N', 'Q', 'C', 'U', 'G', 'P', 'A', 'I', 'L', 'M', 'F', 'W', 'Y', 'V']\n",
    "    \n",
    "    vector = [[0 if char != letter else 1 for char in alphabet] for letter in seq]\n",
    "    \n",
    "    res = np.zeros(AMMINO_LEN*SEQ_LEN)\n",
    "    i = 0\n",
    "    for vec in vector:\n",
    "        res[i:i+len(vec)] = vec\n",
    "        i += AMMINO_LEN\n",
    "    \n",
    "    return vector"
   ]
  },
  {
   "cell_type": "code",
   "execution_count": 6,
   "id": "adequate-appeal",
   "metadata": {},
   "outputs": [],
   "source": [
    "def process_data(data):\n",
    "    X = np.zeros((data.shape[0], SEQ_LEN, 21))\n",
    "    for i in range(data.shape[0]):\n",
    "        X[i,:] = bitmask(data.iloc[i, 0])\n",
    "    return X"
   ]
  },
  {
   "cell_type": "code",
   "execution_count": 7,
   "id": "textile-horizon",
   "metadata": {},
   "outputs": [],
   "source": [
    "X_train = process_data(training_data)\n",
    "X_test = process_data(test_data)\n",
    "\n",
    "y_train = training_data['Active']"
   ]
  },
  {
   "cell_type": "code",
   "execution_count": 8,
   "id": "entertaining-favor",
   "metadata": {},
   "outputs": [
    {
     "data": {
      "text/plain": [
       "(112000, 4, 21)"
      ]
     },
     "execution_count": 8,
     "metadata": {},
     "output_type": "execute_result"
    }
   ],
   "source": [
    "X_train.shape"
   ]
  },
  {
   "cell_type": "code",
   "execution_count": 9,
   "id": "considerable-thermal",
   "metadata": {},
   "outputs": [],
   "source": [
    "X_train = np.reshape(X_train, (X_train.shape[0], X_train.shape[1]*X_train.shape[2]))\n",
    "X_test = np.reshape(X_test, (X_test.shape[0], X_test.shape[1]*X_test.shape[2]))"
   ]
  },
  {
   "cell_type": "code",
   "execution_count": 10,
   "id": "intelligent-neighbor",
   "metadata": {},
   "outputs": [],
   "source": [
    "clf = MLPClassifier(alpha=0.001, max_iter=15000, hidden_layer_sizes=(42, 16), random_state=1, early_stopping=False, validation_fraction=0.2, activation='logistic')\n"
   ]
  },
  {
   "cell_type": "code",
   "execution_count": 11,
   "id": "parental-columbia",
   "metadata": {},
   "outputs": [
    {
     "data": {
      "text/plain": [
       "MLPClassifier(activation='logistic', alpha=0.001, hidden_layer_sizes=(42, 16),\n",
       "              max_iter=15000, random_state=1, validation_fraction=0.2)"
      ]
     },
     "execution_count": 11,
     "metadata": {},
     "output_type": "execute_result"
    }
   ],
   "source": [
    "clf.fit(X_train, y_train)"
   ]
  },
  {
   "cell_type": "code",
   "execution_count": 12,
   "id": "experienced-retention",
   "metadata": {
    "pycharm": {
     "name": "#%%\n"
    }
   },
   "outputs": [
    {
     "name": "stdout",
     "output_type": "stream",
     "text": [
      "181\n"
     ]
    }
   ],
   "source": [
    "print(clf.n_iter_)"
   ]
  },
  {
   "cell_type": "code",
   "execution_count": 13,
   "id": "bizarre-valley",
   "metadata": {},
   "outputs": [],
   "source": [
    "preds = clf.predict(X_test)"
   ]
  },
  {
   "cell_type": "code",
   "execution_count": 14,
   "id": "molecular-company",
   "metadata": {},
   "outputs": [],
   "source": [
    "np.savetxt(\"submission.csv\", preds, fmt=\"%s\")"
   ]
  },
  {
   "cell_type": "code",
   "execution_count": null,
   "id": "intimate-circuit",
   "metadata": {},
   "outputs": [],
   "source": []
  }
 ],
 "metadata": {
  "kernelspec": {
   "display_name": "Python 3",
   "language": "python",
   "name": "python3"
  },
  "language_info": {
   "codemirror_mode": {
    "name": "ipython",
    "version": 3
   },
   "file_extension": ".py",
   "mimetype": "text/x-python",
   "name": "python",
   "nbconvert_exporter": "python",
   "pygments_lexer": "ipython3",
   "version": "3.8.5"
  }
 },
 "nbformat": 4,
 "nbformat_minor": 5
}
