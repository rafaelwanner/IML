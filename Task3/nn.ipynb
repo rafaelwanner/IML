{
 "cells": [
  {
   "cell_type": "code",
   "execution_count": 1,
   "id": "minute-andorra",
   "metadata": {},
   "outputs": [],
   "source": [
    "import pandas as pd\n",
    "import numpy as np\n",
    "import torch\n",
    "from torch import nn\n",
    "from torch.autograd import Variable\n",
    "from torch.utils.data import DataLoader"
   ]
  },
  {
   "cell_type": "code",
   "execution_count": 2,
   "id": "developmental-tragedy",
   "metadata": {},
   "outputs": [],
   "source": [
    "SEQ_LEN = 4\n",
    "BATCH_SIZE = 64"
   ]
  },
  {
   "cell_type": "code",
   "execution_count": 3,
   "id": "suffering-biotechnology",
   "metadata": {},
   "outputs": [],
   "source": [
    "training_data = pd.read_csv(\"task3_ks39mcp5/train.csv\")\n",
    "test_data = pd.read_csv(\"task3_ks39mcp5/test.csv\")"
   ]
  },
  {
   "cell_type": "code",
   "execution_count": 4,
   "id": "owned-colleague",
   "metadata": {},
   "outputs": [],
   "source": [
    "def sequence(seq):\n",
    "    vector = [ord(letter) for letter in seq]\n",
    "    return vector"
   ]
  },
  {
   "cell_type": "code",
   "execution_count": 5,
   "id": "satisfied-department",
   "metadata": {},
   "outputs": [],
   "source": [
    "def process_data(data):\n",
    "    X = np.zeros((data.shape[0], SEQ_LEN))\n",
    "    for i in range(data.shape[0]):\n",
    "        X[i,:] = sequence(data.iloc[i, 0])\n",
    "    return X"
   ]
  },
  {
   "cell_type": "code",
   "execution_count": 6,
   "id": "honey-flesh",
   "metadata": {},
   "outputs": [],
   "source": [
    "X_train = process_data(training_data)\n",
    "y_train = training_data['Active']"
   ]
  },
  {
   "cell_type": "code",
   "execution_count": 7,
   "id": "beginning-haiti",
   "metadata": {},
   "outputs": [],
   "source": [
    "X = []\n",
    "y = []\n",
    "for i in range(0, X_train.shape[0], 64):\n",
    "    X.append(X_train[i:i+64, :])\n",
    "    y.append(y_train[i:i+64])\n",
    "\n",
    "X_train = Variable(torch.Tensor(X))\n",
    "y_train = Variable(torch.Tensor(y))"
   ]
  },
  {
   "cell_type": "code",
   "execution_count": 8,
   "id": "given-divide",
   "metadata": {},
   "outputs": [],
   "source": [
    "X_test = process_data(test_data)"
   ]
  },
  {
   "cell_type": "code",
   "execution_count": 9,
   "id": "intermediate-miniature",
   "metadata": {},
   "outputs": [],
   "source": [
    "y_train = torch.reshape(y_train, (y_train.shape[0], y_train.shape[1], 1))"
   ]
  },
  {
   "cell_type": "code",
   "execution_count": 21,
   "id": "processed-oliver",
   "metadata": {},
   "outputs": [],
   "source": [
    "# Define model\n",
    "class NeuralNetwork(nn.Module):\n",
    "    def __init__(self):\n",
    "        super(NeuralNetwork, self).__init__()\n",
    "        self.linear_relu_stack = nn.Sequential(\n",
    "            nn.Linear(4, 16),\n",
    "            nn.ReLU(),\n",
    "            nn.Linear(16, 16),\n",
    "            nn.ReLU(),\n",
    "            nn.Linear(16, 1),\n",
    "            nn.Sigmoid()\n",
    "        )\n",
    "\n",
    "    def forward(self, x):\n",
    "        res = self.linear_relu_stack(x)\n",
    "        return res\n"
   ]
  },
  {
   "cell_type": "code",
   "execution_count": 11,
   "id": "working-glory",
   "metadata": {},
   "outputs": [],
   "source": [
    "def train(X_train, y_train, model, loss_fn, optimizer):\n",
    "    size = X_train.shape[0]*BATCH_SIZE\n",
    "    for batch in range(X_train.shape[0]):\n",
    "        X = X_train[batch,:,:]\n",
    "        y = y_train[batch]\n",
    "        \n",
    "        # Compute prediction error\n",
    "        pred = model(X)\n",
    "        loss = loss_fn(pred, y)\n",
    "\n",
    "        # Backpropagation\n",
    "        optimizer.zero_grad()\n",
    "        loss.backward()\n",
    "        optimizer.step()\n",
    "\n",
    "        if batch % 100 == 0:\n",
    "            loss, current = loss.item(), batch * len(X)\n",
    "            print(f\"loss: {loss:>7f}  [{current:>5d}/{size:>5d}]\")\n"
   ]
  },
  {
   "cell_type": "code",
   "execution_count": 12,
   "id": "checked-astronomy",
   "metadata": {},
   "outputs": [],
   "source": [
    "def test(dataloader, model):\n",
    "    size = len(dataloader.dataset)\n",
    "    model.eval()\n",
    "    test_loss, correct = 0, 0\n",
    "    with torch.no_grad():\n",
    "        for X, y in dataloader:\n",
    "            X, y = X.to(device), y.to(device)\n",
    "            pred = model(X)\n",
    "            test_loss += loss_fn(pred, y).item()\n",
    "            correct += (pred.argmax(1) == y).type(torch.float).sum().item()\n",
    "    test_loss /= size\n",
    "    correct /= size\n",
    "    print(f\"Test Error: \\n Accuracy: {(100*correct):>0.1f}%, Avg loss: {test_loss:>8f} \\n\")"
   ]
  },
  {
   "cell_type": "code",
   "execution_count": 25,
   "id": "material-notion",
   "metadata": {},
   "outputs": [],
   "source": [
    "model = NeuralNetwork()\n",
    "loss_fn = nn.BCELoss()\n",
    "optimizer = torch.optim.SGD(model.parameters(), lr=1e-3)"
   ]
  },
  {
   "cell_type": "code",
   "execution_count": 26,
   "id": "central-grave",
   "metadata": {},
   "outputs": [
    {
     "name": "stdout",
     "output_type": "stream",
     "text": [
      "Epoch 1\n",
      "-------------------------------\n",
      "loss: 1.224924  [    0/112000]\n",
      "loss: 0.279283  [ 6400/112000]\n",
      "loss: 0.246594  [12800/112000]\n",
      "loss: 0.036671  [19200/112000]\n",
      "loss: 0.171770  [25600/112000]\n",
      "loss: 0.278371  [32000/112000]\n",
      "loss: 0.171179  [38400/112000]\n",
      "loss: 0.142478  [44800/112000]\n",
      "loss: 0.236338  [51200/112000]\n",
      "loss: 0.120944  [57600/112000]\n",
      "loss: 0.079787  [64000/112000]\n",
      "loss: 0.177671  [70400/112000]\n",
      "loss: 0.041399  [76800/112000]\n",
      "loss: 0.331096  [83200/112000]\n",
      "loss: 0.044973  [89600/112000]\n",
      "loss: 0.031400  [96000/112000]\n",
      "loss: 0.173785  [102400/112000]\n",
      "loss: 0.270141  [108800/112000]\n",
      "Epoch 2\n",
      "-------------------------------\n",
      "loss: 0.032979  [    0/112000]\n",
      "loss: 0.261760  [ 6400/112000]\n",
      "loss: 0.237740  [12800/112000]\n",
      "loss: 0.036744  [19200/112000]\n",
      "loss: 0.169968  [25600/112000]\n",
      "loss: 0.272517  [32000/112000]\n",
      "loss: 0.166356  [38400/112000]\n",
      "loss: 0.143586  [44800/112000]\n",
      "loss: 0.236761  [51200/112000]\n",
      "loss: 0.115380  [57600/112000]\n",
      "loss: 0.081095  [64000/112000]\n",
      "loss: 0.175972  [70400/112000]\n",
      "loss: 0.040630  [76800/112000]\n",
      "loss: 0.317640  [83200/112000]\n",
      "loss: 0.043399  [89600/112000]\n",
      "loss: 0.031598  [96000/112000]\n",
      "loss: 0.171935  [102400/112000]\n",
      "loss: 0.263207  [108800/112000]\n",
      "Epoch 3\n",
      "-------------------------------\n",
      "loss: 0.032044  [    0/112000]\n",
      "loss: 0.257963  [ 6400/112000]\n",
      "loss: 0.231852  [12800/112000]\n",
      "loss: 0.036609  [19200/112000]\n",
      "loss: 0.168330  [25600/112000]\n",
      "loss: 0.269134  [32000/112000]\n",
      "loss: 0.162148  [38400/112000]\n",
      "loss: 0.144959  [44800/112000]\n",
      "loss: 0.237745  [51200/112000]\n",
      "loss: 0.110449  [57600/112000]\n",
      "loss: 0.082518  [64000/112000]\n",
      "loss: 0.175012  [70400/112000]\n",
      "loss: 0.039724  [76800/112000]\n",
      "loss: 0.307614  [83200/112000]\n",
      "loss: 0.042127  [89600/112000]\n",
      "loss: 0.031637  [96000/112000]\n",
      "loss: 0.170746  [102400/112000]\n",
      "loss: 0.258397  [108800/112000]\n",
      "Epoch 4\n",
      "-------------------------------\n",
      "loss: 0.031004  [    0/112000]\n",
      "loss: 0.256258  [ 6400/112000]\n",
      "loss: 0.227853  [12800/112000]\n",
      "loss: 0.036338  [19200/112000]\n",
      "loss: 0.167141  [25600/112000]\n",
      "loss: 0.267509  [32000/112000]\n",
      "loss: 0.158572  [38400/112000]\n",
      "loss: 0.146410  [44800/112000]\n",
      "loss: 0.238943  [51200/112000]\n",
      "loss: 0.106216  [57600/112000]\n",
      "loss: 0.084030  [64000/112000]\n",
      "loss: 0.174604  [70400/112000]\n",
      "loss: 0.038826  [76800/112000]\n",
      "loss: 0.300127  [83200/112000]\n",
      "loss: 0.041010  [89600/112000]\n",
      "loss: 0.031650  [96000/112000]\n",
      "loss: 0.170184  [102400/112000]\n",
      "loss: 0.255426  [108800/112000]\n",
      "Epoch 5\n",
      "-------------------------------\n",
      "loss: 0.030027  [    0/112000]\n",
      "loss: 0.255703  [ 6400/112000]\n",
      "loss: 0.225440  [12800/112000]\n",
      "loss: 0.036062  [19200/112000]\n",
      "loss: 0.166576  [25600/112000]\n",
      "loss: 0.267278  [32000/112000]\n",
      "loss: 0.155813  [38400/112000]\n",
      "loss: 0.147759  [44800/112000]\n",
      "loss: 0.240189  [51200/112000]\n",
      "loss: 0.102882  [57600/112000]\n",
      "loss: 0.085514  [64000/112000]\n",
      "loss: 0.174613  [70400/112000]\n",
      "loss: 0.038074  [76800/112000]\n",
      "loss: 0.294901  [83200/112000]\n",
      "loss: 0.040058  [89600/112000]\n",
      "loss: 0.031668  [96000/112000]\n",
      "loss: 0.170128  [102400/112000]\n",
      "loss: 0.254151  [108800/112000]\n",
      "Done!\n"
     ]
    }
   ],
   "source": [
    "epochs = 5\n",
    "for t in range(epochs):\n",
    "    print(f\"Epoch {t+1}\\n-------------------------------\")\n",
    "    train(X_train, y_train, model, loss_fn, optimizer)\n",
    "print(\"Done!\")"
   ]
  },
  {
   "cell_type": "code",
   "execution_count": 27,
   "id": "current-bench",
   "metadata": {},
   "outputs": [],
   "source": [
    "pred = model(X_train[0,:])"
   ]
  },
  {
   "cell_type": "code",
   "execution_count": 28,
   "id": "radical-example",
   "metadata": {},
   "outputs": [
    {
     "data": {
      "text/plain": [
       "tensor([[0.0101],\n",
       "        [0.0185],\n",
       "        [0.0111],\n",
       "        [0.0140],\n",
       "        [0.0175],\n",
       "        [0.0832],\n",
       "        [0.0159],\n",
       "        [0.0079],\n",
       "        [0.0207],\n",
       "        [0.0315],\n",
       "        [0.0142],\n",
       "        [0.0173],\n",
       "        [0.0527],\n",
       "        [0.0490],\n",
       "        [0.0158],\n",
       "        [0.0123],\n",
       "        [0.0119],\n",
       "        [0.0183],\n",
       "        [0.0231],\n",
       "        [0.0601],\n",
       "        [0.0382],\n",
       "        [0.0134],\n",
       "        [0.0072],\n",
       "        [0.0107],\n",
       "        [0.0284],\n",
       "        [0.0440],\n",
       "        [0.0239],\n",
       "        [0.0268],\n",
       "        [0.0297],\n",
       "        [0.0304],\n",
       "        [0.0188],\n",
       "        [0.0072],\n",
       "        [0.0627],\n",
       "        [0.0097],\n",
       "        [0.0100],\n",
       "        [0.0268],\n",
       "        [0.0796],\n",
       "        [0.0418],\n",
       "        [0.0732],\n",
       "        [0.0312],\n",
       "        [0.0571],\n",
       "        [0.0225],\n",
       "        [0.0140],\n",
       "        [0.0634],\n",
       "        [0.0365],\n",
       "        [0.0516],\n",
       "        [0.0368],\n",
       "        [0.0126],\n",
       "        [0.0633],\n",
       "        [0.0491],\n",
       "        [0.0185],\n",
       "        [0.0285],\n",
       "        [0.0146],\n",
       "        [0.0391],\n",
       "        [0.0207],\n",
       "        [0.0079],\n",
       "        [0.0295],\n",
       "        [0.0106],\n",
       "        [0.0324],\n",
       "        [0.0290],\n",
       "        [0.0120],\n",
       "        [0.0208],\n",
       "        [0.0204],\n",
       "        [0.0213]], grad_fn=<SigmoidBackward>)"
      ]
     },
     "execution_count": 28,
     "metadata": {},
     "output_type": "execute_result"
    }
   ],
   "source": [
    "pred"
   ]
  },
  {
   "cell_type": "code",
   "execution_count": null,
   "id": "ongoing-military",
   "metadata": {},
   "outputs": [],
   "source": []
  }
 ],
 "metadata": {
  "kernelspec": {
   "display_name": "Python 3",
   "language": "python",
   "name": "python3"
  },
  "language_info": {
   "codemirror_mode": {
    "name": "ipython",
    "version": 3
   },
   "file_extension": ".py",
   "mimetype": "text/x-python",
   "name": "python",
   "nbconvert_exporter": "python",
   "pygments_lexer": "ipython3",
   "version": "3.8.5"
  }
 },
 "nbformat": 4,
 "nbformat_minor": 5
}
